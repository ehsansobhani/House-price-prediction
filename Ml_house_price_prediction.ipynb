{
  "nbformat": 4,
  "nbformat_minor": 0,
  "metadata": {
    "colab": {
      "provenance": []
    },
    "kernelspec": {
      "name": "python3",
      "display_name": "Python 3"
    },
    "language_info": {
      "name": "python"
    }
  },
  "cells": [
    {
      "cell_type": "code",
      "execution_count": 2,
      "metadata": {
        "id": "61gipgkeCTn8"
      },
      "outputs": [],
      "source": [
        "import pandas as pd\n",
        "import matplotlib.pyplot as plt\n",
        "import seaborn as sns\n",
        "import numpy as np\n",
        "from sklearn.model_selection import train_test_split"
      ]
    },
    {
      "cell_type": "code",
      "source": [
        "from sklearn.compose import ColumnTransformer\n",
        "from sklearn.preprocessing import StandardScaler, OneHotEncoder,RobustScaler, Normalizer\n",
        "from sklearn.model_selection import train_test_split\n",
        "\n",
        "# Assuming df is your DataFrame and 'price' is the target variable\n",
        "df = pd.read_csv('Housing.csv')  # replace 'your_data.csv' with your actual file path\n",
        "\n",
        "# Define categorical and numerical columns\n",
        "categorical_cols = ['mainroad', 'guestroom', 'basement', 'airconditioning','hotwaterheating', 'prefarea', 'furnishingstatus']\n",
        "numerical_cols = ['area', 'bedrooms', 'bathrooms', 'stories', 'parking']\n",
        "\n",
        "# Define the features and the target\n",
        "X = df.drop('price', axis=1)\n",
        "y = df['price']\n",
        "\n",
        "# Split the data into training and test sets\n",
        "X_train, X_test, y_train, y_test = train_test_split(X, y, test_size=0.1, random_state=42)\n",
        "\n",
        "# Define a preprocessor StandardScaler\n",
        "# preprocessor = ColumnTransformer(\n",
        "#     transformers=[\n",
        "#         ('num', StandardScaler(), numerical_cols),\n",
        "#         ('cat', OneHotEncoder(), categorical_cols)])\n",
        "\n",
        "# Define a preprocessor RobustScaler\n",
        "preprocessor = ColumnTransformer(\n",
        "    transformers=[\n",
        "        ('num', RobustScaler(), numerical_cols),\n",
        "        ('cat', OneHotEncoder(), categorical_cols)])\n",
        "\n",
        "# Define a preprocessor Normalizer\n",
        "# preprocessor = ColumnTransformer(\n",
        "#     transformers=[\n",
        "#         ('num', Normalizer(), numerical_cols),\n",
        "#         ('cat', OneHotEncoder(), categorical_cols)])\n",
        "\n",
        "# Fit and transform the training data\n",
        "X_train = preprocessor.fit_transform(X_train)\n",
        "\n",
        "# Transform the test data\n",
        "X_test = preprocessor.transform(X_test)\n",
        "\n",
        "# Now, X_train and X_test are ready to be used in a machine learning model"
      ],
      "metadata": {
        "id": "dCB5FAOHCcVr"
      },
      "execution_count": 3,
      "outputs": []
    },
    {
      "cell_type": "code",
      "source": [
        "# Printing first 5 records of the dataset\n",
        "print(df.head(5))"
      ],
      "metadata": {
        "colab": {
          "base_uri": "https://localhost:8080/"
        },
        "id": "81w4wPZiCka5",
        "outputId": "775c590e-8e69-4010-e12a-a98af6456bf8"
      },
      "execution_count": 4,
      "outputs": [
        {
          "output_type": "stream",
          "name": "stdout",
          "text": [
            "   area  bedrooms  bathrooms  stories mainroad guestroom basement  \\\n",
            "0  7420         4          2        3      yes        no       no   \n",
            "1  8960         4          4        4      yes        no       no   \n",
            "2  9960         3          2        2      yes        no      yes   \n",
            "3  7500         4          2        2      yes        no      yes   \n",
            "4  7420         4          1        2      yes       yes      yes   \n",
            "\n",
            "  hotwaterheating airconditioning  parking prefarea furnishingstatus     price  \n",
            "0              no             yes        2      yes        furnished  13300000  \n",
            "1              no             yes        3       no        furnished  12250000  \n",
            "2              no              no        2      yes   semi-furnished  12250000  \n",
            "3              no             yes        3      yes        furnished  12215000  \n",
            "4              no             yes        2       no        furnished  11410000  \n"
          ]
        }
      ]
    },
    {
      "cell_type": "code",
      "source": [
        "\n",
        "\n",
        "from sklearn.ensemble import RandomForestRegressor\n",
        "from sklearn.decomposition import PCA\n",
        "from sklearn.metrics import mean_squared_error ,r2_score , mean_absolute_percentage_error\n",
        "\n",
        "# Define the PCA object\n",
        "pca = PCA(n_components=4)  # n_components specifies the number of dimensions to reduce to\n",
        "\n",
        "# Fit and transform the training data\n",
        "X_train_pca = pca.fit_transform(X_train)\n",
        "\n",
        "# Transform the test data\n",
        "X_test_pca = pca.transform(X_test)\n",
        "\n",
        "# Train a Random Forest model\n",
        "rf = RandomForestRegressor(n_estimators=100, random_state=42)\n",
        "rf.fit(X_train_pca, y_train)\n",
        "\n",
        "# Get feature importances\n",
        "importances = rf.feature_importances_\n",
        "\n",
        "# Print feature importances\n",
        "for i, importance in enumerate(importances):\n",
        "    print(f\"Principal Component {i+1}: {importance}\")\n",
        "\n",
        "# Predict on the test set\n",
        "y_pred_rf = rf.predict(X_test_pca)\n",
        "\n",
        "# Compute the root mean squared error of the Random Forest model\n",
        "rmse_rf = mean_squared_error(y_test, y_pred_rf, squared=False)\n",
        "\n",
        "# Print the root mean squared error\n",
        "print(f\"Root Mean Squared Error (Random Forest): {rmse_rf}\")\n",
        "print(f\"mean_absolute_percentage_error (Random Forest): {mean_absolute_percentage_error(y_test,y_pred_rf)}\")\n",
        "print(f\"r2 score: {r2_score(y_test,y_pred_rf)}\")\n"
      ],
      "metadata": {
        "colab": {
          "base_uri": "https://localhost:8080/"
        },
        "id": "GS2SY6B-JZo4",
        "outputId": "f47846e6-0ae2-450d-adc5-1c1dfb9c8f66"
      },
      "execution_count": 5,
      "outputs": [
        {
          "output_type": "stream",
          "name": "stdout",
          "text": [
            "Principal Component 1: 0.6723815409702203\n",
            "Principal Component 2: 0.09192148615734294\n",
            "Principal Component 3: 0.1323230499768433\n",
            "Principal Component 4: 0.10337392289559344\n",
            "Root Mean Squared Error (Random Forest): 1222773.9023985271\n",
            "mean_absolute_percentage_error (Random Forest): 0.23869092130239986\n",
            "r2 score: 0.6782010331957385\n"
          ]
        }
      ]
    },
    {
      "cell_type": "code",
      "source": [
        "from sklearn.ensemble import RandomForestRegressor\n",
        "from sklearn.decomposition import PCA\n",
        "from sklearn.metrics import mean_squared_error,r2_score , mean_absolute_percentage_error\n",
        "\n",
        "# Train a Random Forest model\n",
        "rf = RandomForestRegressor(n_estimators=100, random_state=42)\n",
        "rf.fit(X_train, y_train)\n",
        "\n",
        "# Get feature importances\n",
        "importances = rf.feature_importances_\n",
        "\n",
        "# Get the indices of the features sorted by importance\n",
        "indices = np.argsort(importances)[::-1]\n",
        "\n",
        "# Select a subset of the most important features\n",
        "n_features = 16  # You can adjust this value\n",
        "X_train_reduced = X_train[:, indices[:n_features]]\n",
        "X_test_reduced = X_test[:, indices[:n_features]]\n",
        "\n",
        "# Define the PCA object\n",
        "pca = PCA(n_components=4)  # n_components specifies the number of dimensions to reduce to\n",
        "\n",
        "# Fit and transform the training data\n",
        "X_train_pca = pca.fit_transform(X_train_reduced)\n",
        "\n",
        "# Transform the test data\n",
        "X_test_pca = pca.transform(X_test_reduced)\n",
        "\n",
        "# Train a new Random Forest model on the reduced and transformed data\n",
        "rf_pca = RandomForestRegressor(n_estimators=100, random_state=42)\n",
        "rf_pca.fit(X_train_pca, y_train)\n",
        "\n",
        "# Predict on the test set\n",
        "y_pred_rf_pca = rf_pca.predict(X_test_pca)\n",
        "\n",
        "# Compute the root mean squared error of the Random Forest model\n",
        "rmse_rf_pca = mean_squared_error(y_test, y_pred_rf_pca, squared=False)\n",
        "\n",
        "# Print the root mean squared error\n",
        "print(f\"Root Mean Squared Error (Random Forest with feature selection and PCA): {rmse_rf_pca}\")\n",
        "print(f\"mean_absolute_percentage_error (Random Forest): {mean_absolute_percentage_error(y_test,y_pred_rf_pca)}\")\n",
        "print(f\"r2 score: {r2_score(y_test,y_pred_rf_pca)}\")"
      ],
      "metadata": {
        "colab": {
          "base_uri": "https://localhost:8080/"
        },
        "id": "Qy6L2rAJK8OJ",
        "outputId": "4527e4fc-e901-4e2d-b28b-49a5663c13ef"
      },
      "execution_count": 6,
      "outputs": [
        {
          "output_type": "stream",
          "name": "stdout",
          "text": [
            "Root Mean Squared Error (Random Forest with feature selection and PCA): 1161664.6320026845\n",
            "mean_absolute_percentage_error (Random Forest): 0.23259319389811708\n",
            "r2 score: 0.7095617191627231\n"
          ]
        }
      ]
    },
    {
      "cell_type": "code",
      "source": [
        "indices"
      ],
      "metadata": {
        "colab": {
          "base_uri": "https://localhost:8080/"
        },
        "id": "ZdIXDdJuM-Yr",
        "outputId": "207c9758-418a-44f5-b866-be55be75899d"
      },
      "execution_count": 7,
      "outputs": [
        {
          "output_type": "execute_result",
          "data": {
            "text/plain": [
              "array([ 0,  2,  4,  3,  1, 19, 12, 11, 10,  9, 15, 16, 17,  8,  7, 18, 13,\n",
              "       14,  5,  6])"
            ]
          },
          "metadata": {},
          "execution_count": 7
        }
      ]
    },
    {
      "cell_type": "code",
      "source": [
        "importances.shape"
      ],
      "metadata": {
        "colab": {
          "base_uri": "https://localhost:8080/"
        },
        "id": "8gjygJtsNhYT",
        "outputId": "cba0ac50-4abe-4447-f589-27c0c7ccdd5c"
      },
      "execution_count": 8,
      "outputs": [
        {
          "output_type": "execute_result",
          "data": {
            "text/plain": [
              "(20,)"
            ]
          },
          "metadata": {},
          "execution_count": 8
        }
      ]
    },
    {
      "cell_type": "code",
      "source": [
        "X_test.shape"
      ],
      "metadata": {
        "colab": {
          "base_uri": "https://localhost:8080/"
        },
        "id": "1ljcWxtTN8rm",
        "outputId": "459822cb-6523-4371-89c2-444dd62abd0d"
      },
      "execution_count": 9,
      "outputs": [
        {
          "output_type": "execute_result",
          "data": {
            "text/plain": [
              "(55, 20)"
            ]
          },
          "metadata": {},
          "execution_count": 9
        }
      ]
    },
    {
      "cell_type": "code",
      "source": [
        "from sklearn.linear_model import LinearRegression\n",
        "\n",
        "# Train a Linear Regression model\n",
        "lr = LinearRegression()\n",
        "lr.fit(X_train_pca, y_train)\n",
        "\n",
        "# Predict on the test set\n",
        "y_pred_lr = lr.predict(X_test_pca)\n",
        "\n",
        "# Compute the R^2 score\n",
        "r2_lr = r2_score(y_test, y_pred_lr)\n",
        "\n",
        "# Compute the root mean squared error\n",
        "rmse_lr = mean_squared_error(y_test, y_pred_lr, squared=False)\n",
        "\n",
        "# Compute the absolute percentage error\n",
        "ape_lr = np.abs((y_test - y_pred_lr) / y_test) * 100\n",
        "\n",
        "# Compute the mean absolute percentage error\n",
        "mape_lr = np.mean(ape_lr)\n",
        "\n",
        "# Print the metrics\n",
        "print(f\"R^2 Score (Linear Regression with feature selection and PCA): {r2_lr}\")\n",
        "print(f\"Root Mean Squared Error (Linear Regression with feature selection and PCA): {rmse_lr}\")\n",
        "print(f\"Mean Absolute Percentage Error (Linear Regression with feature selection and PCA): {mape_lr}%\")"
      ],
      "metadata": {
        "colab": {
          "base_uri": "https://localhost:8080/"
        },
        "id": "GypP_1OnOGUK",
        "outputId": "a011e049-7127-40a4-db31-85fd9db9bc73"
      },
      "execution_count": 10,
      "outputs": [
        {
          "output_type": "stream",
          "name": "stdout",
          "text": [
            "R^2 Score (Linear Regression with feature selection and PCA): 0.6754357703787055\n",
            "Root Mean Squared Error (Linear Regression with feature selection and PCA): 1228016.3963502755\n",
            "Mean Absolute Percentage Error (Linear Regression with feature selection and PCA): 22.853512186879463%\n"
          ]
        }
      ]
    },
    {
      "cell_type": "code",
      "source": [
        "from sklearn.linear_model import SGDRegressor\n",
        "\n",
        "# Train a SGD Regressor\n",
        "sgd = SGDRegressor(max_iter=1000, tol=1e-3)\n",
        "sgd.fit(X_train_pca, y_train)\n",
        "\n",
        "# Predict on the test set\n",
        "y_pred_sgd = sgd.predict(X_test_pca)\n",
        "\n",
        "# Compute the R^2 score\n",
        "r2_sgd = r2_score(y_test, y_pred_sgd)\n",
        "\n",
        "# Compute the root mean squared error\n",
        "rmse_sgd = mean_squared_error(y_test, y_pred_sgd, squared=False)\n",
        "\n",
        "# Compute the absolute percentage error\n",
        "ape_sgd = np.abs((y_test - y_pred_sgd) / y_test) * 100\n",
        "\n",
        "# Compute the mean absolute percentage error\n",
        "mape_sgd = np.mean(ape_sgd)\n",
        "\n",
        "# Print the metrics\n",
        "print(f\"R^2 Score (SGD Regressor with feature selection and PCA): {r2_sgd}\")\n",
        "print(f\"Root Mean Squared Error (SGD Regressor with feature selection and PCA): {rmse_sgd}\")\n",
        "print(f\"Mean Absolute Percentage Error (SGD Regressor with feature selection and PCA): {mape_sgd}%\")"
      ],
      "metadata": {
        "colab": {
          "base_uri": "https://localhost:8080/"
        },
        "id": "FVxmNih4PC49",
        "outputId": "d904d110-7160-4797-bec4-9518c7da5967"
      },
      "execution_count": 11,
      "outputs": [
        {
          "output_type": "stream",
          "name": "stdout",
          "text": [
            "R^2 Score (SGD Regressor with feature selection and PCA): 0.6742858317059178\n",
            "Root Mean Squared Error (SGD Regressor with feature selection and PCA): 1230189.9182801952\n",
            "Mean Absolute Percentage Error (SGD Regressor with feature selection and PCA): 22.91668675887083%\n"
          ]
        }
      ]
    },
    {
      "cell_type": "code",
      "source": [
        "import numpy as np\n",
        "\n",
        "# Initialize parameters\n",
        "theta = np.zeros(X_train_pca.shape[1])\n",
        "alpha = 0.01  # learning rate\n",
        "m = y_train.size  # number of samples\n",
        "epsilon = 0.0001  # convergence threshold\n",
        "old_cost = np.inf\n",
        "\n",
        "# Batch gradient descent\n",
        "for _ in range(10000):  # maximum number of iterations\n",
        "    # Compute predictions\n",
        "    pred = np.dot(X_train_pca, theta)\n",
        "\n",
        "    # Compute cost\n",
        "    error = pred - y_train\n",
        "    cost = np.sum(error ** 2) / (2 * m)\n",
        "\n",
        "    # Check for convergence\n",
        "    if np.abs(old_cost - cost) < epsilon:\n",
        "        break\n",
        "\n",
        "    old_cost = cost\n",
        "\n",
        "    # Update parameters\n",
        "    gradient = np.dot(X_train_pca.T, error) / m\n",
        "    theta = theta - alpha * gradient\n",
        "\n",
        "# Now, theta contains the parameters of the model trained using batch gradient descent\n",
        "\n",
        "\n",
        "# Predict on the test set\n",
        "y_pred_bgd = np.dot(X_test_pca, theta)\n",
        "\n",
        "# Compute the R^2 score\n",
        "r2_bgd = r2_score(y_test, y_pred_bgd)\n",
        "\n",
        "# Compute the root mean squared error\n",
        "rmse_bgd = mean_squared_error(y_test, y_pred_bgd, squared=False)\n",
        "\n",
        "# Compute the absolute percentage error\n",
        "ape_bgd = np.abs((y_test - y_pred_bgd) / y_test) * 100\n",
        "\n",
        "# Compute the mean absolute percentage error\n",
        "mape_bgd = np.mean(ape_bgd)\n",
        "\n",
        "# Print the metrics\n",
        "print(f\"R^2 Score (Batch Gradient Descent): {r2_bgd}\")\n",
        "print(f\"Root Mean Squared Error (Batch Gradient Descent): {rmse_bgd}\")\n",
        "print(f\"Mean Absolute Percentage Error (Batch Gradient Descent): {mape_bgd}%\")"
      ],
      "metadata": {
        "colab": {
          "base_uri": "https://localhost:8080/"
        },
        "id": "7eHG4a0sPl0i",
        "outputId": "09106d2e-a6d7-4a92-8b9e-fac19143f729"
      },
      "execution_count": 12,
      "outputs": [
        {
          "output_type": "stream",
          "name": "stdout",
          "text": [
            "R^2 Score (Batch Gradient Descent): -4.030371358320194\n",
            "Root Mean Squared Error (Batch Gradient Descent): 4834525.574396\n",
            "Mean Absolute Percentage Error (Batch Gradient Descent): 115.29191141480251%\n"
          ]
        }
      ]
    },
    {
      "cell_type": "code",
      "source": [
        "from sklearn.linear_model import SGDRegressor\n",
        "\n",
        "# Train a SGD Regressor with parameters to mimic BGD\n",
        "sgd_bgd = SGDRegressor(max_iter=len(y_train), learning_rate='constant', eta0=0.01, tol=1e-3)\n",
        "sgd_bgd.fit(X_train_pca, y_train)\n",
        "\n",
        "# Predict on the test set\n",
        "y_pred_sgd_bgd = sgd_bgd.predict(X_test_pca)\n",
        "\n",
        "# Compute the R^2 score\n",
        "r2_sgd_bgd = r2_score(y_test, y_pred_sgd_bgd)\n",
        "\n",
        "# Compute the root mean squared error\n",
        "rmse_sgd_bgd = mean_squared_error(y_test, y_pred_sgd_bgd, squared=False)\n",
        "\n",
        "# Compute the absolute percentage error\n",
        "ape_sgd_bgd = np.abs((y_test - y_pred_sgd_bgd) / y_test) * 100\n",
        "\n",
        "# Compute the mean absolute percentage error\n",
        "mape_sgd_bgd = np.mean(ape_sgd_bgd)\n",
        "\n",
        "# Print the metrics\n",
        "print(f\"R^2 Score (SGD as BGD): {r2_sgd_bgd}\")\n",
        "print(f\"Root Mean Squared Error (SGD as BGD): {rmse_sgd_bgd}\")\n",
        "print(f\"Mean Absolute Percentage Error (SGD as BGD): {mape_sgd_bgd}%\")"
      ],
      "metadata": {
        "colab": {
          "base_uri": "https://localhost:8080/"
        },
        "id": "rWZULOOlQicg",
        "outputId": "fd5ccbff-9756-414c-c40a-4358159aaaf3"
      },
      "execution_count": 13,
      "outputs": [
        {
          "output_type": "stream",
          "name": "stdout",
          "text": [
            "R^2 Score (SGD as BGD): 0.6810250286742008\n",
            "Root Mean Squared Error (SGD as BGD): 1217396.7608115159\n",
            "Mean Absolute Percentage Error (SGD as BGD): 22.54534802014643%\n"
          ]
        }
      ]
    },
    {
      "cell_type": "code",
      "source": [
        "import pandas as pd\n",
        "from sklearn.compose import ColumnTransformer\n",
        "from sklearn.preprocessing import StandardScaler, OneHotEncoder, RobustScaler, Normalizer\n",
        "from sklearn.model_selection import train_test_split\n",
        "from sklearn.ensemble import IsolationForest\n",
        "from sklearn.base import BaseEstimator, TransformerMixin\n",
        "\n",
        "# Define the OutlierRemover class\n",
        "class OutlierRemover(BaseEstimator, TransformerMixin):\n",
        "    def __init__(self, contamination=0.1):\n",
        "        self.contamination = contamination\n",
        "\n",
        "    def fit(self, X, y=None):\n",
        "        self.iforest = IsolationForest(contamination=self.contamination)\n",
        "        self.iforest.fit(X)\n",
        "        return self\n",
        "\n",
        "    def transform(self, X):\n",
        "        is_inlier = self.iforest.predict(X)\n",
        "        return X[is_inlier == 1]\n",
        "\n",
        "# Assuming df is your DataFrame and 'price' is the target variable\n",
        "df = pd.read_csv('Housing.csv')  # replace 'your_data.csv' with your actual file path\n",
        "\n",
        "# Define categorical and numerical columns\n",
        "categorical_cols = ['mainroad', 'guestroom', 'basement', 'airconditioning','hotwaterheating', 'prefarea', 'furnishingstatus']\n",
        "numerical_cols = ['area', 'bedrooms', 'bathrooms', 'stories', 'parking']\n",
        "\n",
        "# Define the features and the target\n",
        "X = df.drop('price', axis=1)\n",
        "y = df['price']\n",
        "# Remove outliers from the numerical columns of the training data\n",
        "outlier_remover = OutlierRemover()\n",
        "X_train_numerical = X_train[numerical_cols]\n",
        "\n",
        "# Get the inlier indices before transforming X_train_numerical\n",
        "inlier_indices = outlier_remover.iforest.fit_predict(X_train_numerical) == 1\n",
        "\n",
        "# Transform X_train_numerical\n",
        "X_train_numerical = outlier_remover.transform(X_train_numerical)\n",
        "\n",
        "# Update y_train to match the inliers in X_train_numerical\n",
        "y_train = y_train[inlier_indices]\n",
        "\n",
        "# Update X_train to only include the inliers\n",
        "X_train = X_train.loc[y_train.index, :]\n",
        "\n",
        "# Split the data into training and test sets\n",
        "X_train, X_test, y_train, y_test = train_test_split(X, y, test_size=0.1, random_state=42)\n",
        "\n",
        "\n",
        "# Define a preprocessor RobustScaler\n",
        "preprocessor = ColumnTransformer(\n",
        "    transformers=[\n",
        "        ('num', RobustScaler(), numerical_cols),\n",
        "        ('cat', OneHotEncoder(), categorical_cols)])\n",
        "\n",
        "# Fit and transform the training data\n",
        "X_train = preprocessor.fit_transform(X_train)\n",
        "\n",
        "# Transform the test data\n",
        "X_test = preprocessor.transform(X_test)\n",
        "\n",
        "# Now, X_train and X_test are ready to be used in a machine learning model\n"
      ],
      "metadata": {
        "colab": {
          "base_uri": "https://localhost:8080/",
          "height": 254
        },
        "id": "TqgDnhbUXs1A",
        "outputId": "7fc8fa4a-3a0f-4329-869c-144c4f1f8461"
      },
      "execution_count": 14,
      "outputs": [
        {
          "output_type": "error",
          "ename": "IndexError",
          "evalue": "ignored",
          "traceback": [
            "\u001b[0;31m---------------------------------------------------------------------------\u001b[0m",
            "\u001b[0;31mIndexError\u001b[0m                                Traceback (most recent call last)",
            "\u001b[0;32m<ipython-input-14-d8398b8996fb>\u001b[0m in \u001b[0;36m<cell line: 34>\u001b[0;34m()\u001b[0m\n\u001b[1;32m     32\u001b[0m \u001b[0;31m# Remove outliers from the numerical columns of the training data\u001b[0m\u001b[0;34m\u001b[0m\u001b[0;34m\u001b[0m\u001b[0m\n\u001b[1;32m     33\u001b[0m \u001b[0moutlier_remover\u001b[0m \u001b[0;34m=\u001b[0m \u001b[0mOutlierRemover\u001b[0m\u001b[0;34m(\u001b[0m\u001b[0;34m)\u001b[0m\u001b[0;34m\u001b[0m\u001b[0;34m\u001b[0m\u001b[0m\n\u001b[0;32m---> 34\u001b[0;31m \u001b[0mX_train_numerical\u001b[0m \u001b[0;34m=\u001b[0m \u001b[0mX_train\u001b[0m\u001b[0;34m[\u001b[0m\u001b[0mnumerical_cols\u001b[0m\u001b[0;34m]\u001b[0m\u001b[0;34m\u001b[0m\u001b[0;34m\u001b[0m\u001b[0m\n\u001b[0m\u001b[1;32m     35\u001b[0m \u001b[0;34m\u001b[0m\u001b[0m\n\u001b[1;32m     36\u001b[0m \u001b[0;31m# Get the inlier indices before transforming X_train_numerical\u001b[0m\u001b[0;34m\u001b[0m\u001b[0;34m\u001b[0m\u001b[0m\n",
            "\u001b[0;31mIndexError\u001b[0m: only integers, slices (`:`), ellipsis (`...`), numpy.newaxis (`None`) and integer or boolean arrays are valid indices"
          ]
        }
      ]
    },
    {
      "cell_type": "code",
      "source": [
        "from sklearn.compose import ColumnTransformer\n",
        "from sklearn.preprocessing import StandardScaler, OneHotEncoder,RobustScaler, Normalizer\n",
        "from sklearn.model_selection import train_test_split\n",
        "\n",
        "# Assuming df is your DataFrame and 'price' is the target variable\n",
        "df = pd.read_csv('Housing.csv')  # replace 'your_data.csv' with your actual file path\n",
        "# Calculate the IQR of each column\n",
        "Q1 = df.quantile(0.08)\n",
        "Q3 = df.quantile(0.92)\n",
        "IQR = Q3 - Q1\n",
        "\n",
        "# Define a mask for values that are NOT outliers\n",
        "mask = ~((df < (Q1 - 1.5 * IQR)) | (df > (Q3 + 1.5 * IQR))).any(axis=1)\n",
        "\n",
        "\n",
        "# Remove outliers\n",
        "df_clean = df[mask]\n",
        "# Define categorical and numerical columns\n",
        "categorical_cols = ['mainroad', 'guestroom', 'basement', 'airconditioning','hotwaterheating', 'prefarea', 'furnishingstatus']\n",
        "numerical_cols = ['area', 'bedrooms', 'bathrooms', 'stories', 'parking']\n",
        "\n",
        "# Define the features and the target\n",
        "X = df_clean.drop('price', axis=1)\n",
        "y = df_clean['price']\n",
        "\n",
        "# Split the data into training and test sets\n",
        "X_train, X_test, y_train, y_test = train_test_split(X, y, test_size=0.1, random_state=42)\n",
        "\n",
        "# Define a preprocessor StandardScaler\n",
        "# preprocessor = ColumnTransformer(\n",
        "#     transformers=[\n",
        "#         ('num', StandardScaler(), numerical_cols),\n",
        "#         ('cat', OneHotEncoder(), categorical_cols)])\n",
        "\n",
        "# Define a preprocessor RobustScaler\n",
        "preprocessor = ColumnTransformer(\n",
        "    transformers=[\n",
        "        ('num', RobustScaler(), numerical_cols),\n",
        "        ('cat', OneHotEncoder(), categorical_cols)])\n",
        "\n",
        "# Define a preprocessor Normalizer\n",
        "# preprocessor = ColumnTransformer(\n",
        "#     transformers=[\n",
        "#         ('num', Normalizer(), numerical_cols),\n",
        "#         ('cat', OneHotEncoder(), categorical_cols)])\n",
        "\n",
        "# Fit and transform the training data\n",
        "X_train = preprocessor.fit_transform(X_train)\n",
        "\n",
        "# Transform the test data\n",
        "X_test = preprocessor.transform(X_test)\n",
        "\n",
        "# Now, X_train and X_test are ready to be used in a machine learning model"
      ],
      "metadata": {
        "colab": {
          "base_uri": "https://localhost:8080/"
        },
        "id": "McKJhnd8WKWI",
        "outputId": "fa1c9f2c-e7f5-4c50-89f2-74d180817548"
      },
      "execution_count": 41,
      "outputs": [
        {
          "output_type": "stream",
          "name": "stderr",
          "text": [
            "<ipython-input-41-31da58be0ed1>:8: FutureWarning: The default value of numeric_only in DataFrame.quantile is deprecated. In a future version, it will default to False. Select only valid columns or specify the value of numeric_only to silence this warning.\n",
            "  Q1 = df.quantile(0.08)\n",
            "<ipython-input-41-31da58be0ed1>:9: FutureWarning: The default value of numeric_only in DataFrame.quantile is deprecated. In a future version, it will default to False. Select only valid columns or specify the value of numeric_only to silence this warning.\n",
            "  Q3 = df.quantile(0.92)\n",
            "<ipython-input-41-31da58be0ed1>:13: FutureWarning: Automatic reindexing on DataFrame vs Series comparisons is deprecated and will raise ValueError in a future version. Do `left, right = left.align(right, axis=1, copy=False)` before e.g. `left == right`\n",
            "  mask = ~((df < (Q1 - 1.5 * IQR)) | (df > (Q3 + 1.5 * IQR))).any(axis=1)\n"
          ]
        }
      ]
    },
    {
      "cell_type": "code",
      "source": [
        "from sklearn.ensemble import RandomForestRegressor\n",
        "from sklearn.decomposition import PCA\n",
        "from sklearn.metrics import mean_squared_error,r2_score , mean_absolute_percentage_error\n",
        "\n",
        "# Train a Random Forest model\n",
        "rf = RandomForestRegressor(n_estimators=100, random_state=42)\n",
        "rf.fit(X_train, y_train)\n",
        "\n",
        "# Get feature importances\n",
        "importances = rf.feature_importances_\n",
        "\n",
        "# Get the indices of the features sorted by importance\n",
        "indices = np.argsort(importances)[::-1]\n",
        "\n",
        "# Select a subset of the most important features\n",
        "n_features = 16  # You can adjust this value\n",
        "X_train_reduced = X_train[:, indices[:n_features]]\n",
        "X_test_reduced = X_test[:, indices[:n_features]]\n",
        "\n",
        "# Define the PCA object\n",
        "pca = PCA(n_components=15)  # n_components specifies the number of dimensions to reduce to\n",
        "\n",
        "# Fit and transform the training data\n",
        "X_train_pca = pca.fit_transform(X_train_reduced)\n",
        "\n",
        "# Transform the test data\n",
        "X_test_pca = pca.transform(X_test_reduced)\n",
        "\n",
        "# Train a new Random Forest model on the reduced and transformed data\n",
        "rf_pca = RandomForestRegressor(n_estimators=100, random_state=42)\n",
        "rf_pca.fit(X_train_pca, y_train)\n",
        "\n",
        "# Predict on the test set\n",
        "y_pred_rf_pca = rf_pca.predict(X_test_pca)\n",
        "\n",
        "# Compute the root mean squared error of the Random Forest model\n",
        "rmse_rf_pca = mean_squared_error(y_test, y_pred_rf_pca, squared=False)\n",
        "\n",
        "# Print the root mean squared error\n",
        "print(f\"Root Mean Squared Error (Random Forest with feature selection and PCA): {rmse_rf_pca}\")\n",
        "print(f\"mean_absolute_percentage_error (Random Forest): {mean_absolute_percentage_error(y_test,y_pred_rf_pca)}\")\n",
        "print(f\"r2 score: {r2_score(y_test,y_pred_rf_pca)}\")"
      ],
      "metadata": {
        "colab": {
          "base_uri": "https://localhost:8080/"
        },
        "id": "KVkl5rcbeibS",
        "outputId": "c574f75d-d98b-4939-ad2e-cd6967f099ae"
      },
      "execution_count": 36,
      "outputs": [
        {
          "output_type": "stream",
          "name": "stdout",
          "text": [
            "Root Mean Squared Error (Random Forest with feature selection and PCA): 1105258.5838240976\n",
            "mean_absolute_percentage_error (Random Forest): 0.21765849254245626\n",
            "r2 score: 0.7348951875266124\n"
          ]
        }
      ]
    },
    {
      "cell_type": "code",
      "source": [
        "X_train[0]"
      ],
      "metadata": {
        "colab": {
          "base_uri": "https://localhost:8080/"
        },
        "id": "qhBO1Es0y9VR",
        "outputId": "c22c7e73-cbb5-4388-9096-a854662a8535"
      },
      "execution_count": 43,
      "outputs": [
        {
          "output_type": "execute_result",
          "data": {
            "text/plain": [
              "array([-0.57971014,  0.        ,  0.        , -1.        ,  0.        ,\n",
              "        1.        ,  0.        ,  1.        ,  0.        ,  1.        ,\n",
              "        0.        ,  0.        ,  1.        ,  1.        ,  0.        ,\n",
              "        1.        ,  0.        ,  0.        ,  0.        ,  1.        ])"
            ]
          },
          "metadata": {},
          "execution_count": 43
        }
      ]
    },
    {
      "cell_type": "code",
      "source": [
        "df_clean.shape"
      ],
      "metadata": {
        "colab": {
          "base_uri": "https://localhost:8080/"
        },
        "id": "QS61C0qliLmX",
        "outputId": "46282ebe-cd28-4a99-f80f-0950bc1cd4ad"
      },
      "execution_count": 17,
      "outputs": [
        {
          "output_type": "execute_result",
          "data": {
            "text/plain": [
              "(544, 13)"
            ]
          },
          "metadata": {},
          "execution_count": 17
        }
      ]
    },
    {
      "cell_type": "code",
      "source": [
        "df.shape"
      ],
      "metadata": {
        "colab": {
          "base_uri": "https://localhost:8080/"
        },
        "id": "m4Sf-Pk-i1V3",
        "outputId": "7be69255-b724-44b6-91e1-57f492619927"
      },
      "execution_count": 18,
      "outputs": [
        {
          "output_type": "execute_result",
          "data": {
            "text/plain": [
              "(545, 13)"
            ]
          },
          "metadata": {},
          "execution_count": 18
        }
      ]
    },
    {
      "cell_type": "code",
      "source": [
        "from sklearn.ensemble import RandomForestRegressor\n",
        "from sklearn.decomposition import PCA\n",
        "from sklearn.metrics import mean_squared_error,r2_score , mean_absolute_percentage_error\n",
        "\n",
        "# Train a Random Forest model\n",
        "rf = RandomForestRegressor(n_estimators=100, random_state=42)\n",
        "rf.fit(X_train, y_train)\n",
        "\n",
        "# Get feature importances\n",
        "importances = rf.feature_importances_\n",
        "\n",
        "# Get the indices of the features sorted by importance\n",
        "indices = np.argsort(importances)[::-1]\n",
        "\n",
        "# Select a subset of the most important features\n",
        "n_features = 16  # You can adjust this value\n",
        "X_train_reduced = X_train[:, indices[:n_features]]\n",
        "X_test_reduced = X_test[:, indices[:n_features]]\n",
        "\n",
        "# Define the PCA object\n",
        "pca = PCA(n_components=4)  # n_components specifies the number of dimensions to reduce to\n",
        "\n",
        "# Fit and transform the training data\n",
        "X_train_pca = pca.fit_transform(X_train_reduced)\n",
        "\n",
        "# Transform the test data\n",
        "X_test_pca = pca.transform(X_test_reduced)\n",
        "\n",
        "# Train a new Random Forest model on the reduced and transformed data\n",
        "rf_pca = RandomForestRegressor(n_estimators=100, random_state=42)\n",
        "rf_pca.fit(X_train_pca, y_train)\n",
        "\n",
        "# Predict on the test set\n",
        "y_pred_rf_pca = rf_pca.predict(X_test_pca)\n",
        "\n",
        "# Compute the root mean squared error of the Random Forest model\n",
        "rmse_rf_pca = mean_squared_error(y_test, y_pred_rf_pca, squared=False)\n",
        "\n",
        "# Print the root mean squared error\n",
        "print(f\"Root Mean Squared Error (Random Forest with feature selection and PCA): {rmse_rf_pca}\")\n",
        "print(f\"mean_absolute_percentage_error (Random Forest): {mean_absolute_percentage_error(y_test,y_pred_rf_pca)}\")\n",
        "print(f\"r2 score: {r2_score(y_test,y_pred_rf_pca)}\")"
      ],
      "metadata": {
        "colab": {
          "base_uri": "https://localhost:8080/"
        },
        "id": "7f19B4Mti3SQ",
        "outputId": "d31f716d-2396-499c-f77c-a96926ce05b3"
      },
      "execution_count": 21,
      "outputs": [
        {
          "output_type": "stream",
          "name": "stdout",
          "text": [
            "Root Mean Squared Error (Random Forest with feature selection and PCA): 1165893.877728246\n",
            "mean_absolute_percentage_error (Random Forest): 0.2223870229047006\n",
            "r2 score: 0.7050096139900867\n"
          ]
        }
      ]
    },
    {
      "cell_type": "code",
      "source": [
        "X_train_reduced"
      ],
      "metadata": {
        "colab": {
          "base_uri": "https://localhost:8080/"
        },
        "id": "iOnl8yfUqvtT",
        "outputId": "71ba5192-05c2-4911-8688-745e0f60c6b3"
      },
      "execution_count": 37,
      "outputs": [
        {
          "output_type": "execute_result",
          "data": {
            "text/plain": [
              "array([[-0.57971014,  0.        ,  0.        , ...,  0.        ,\n",
              "         0.        ,  1.        ],\n",
              "       [ 3.11594203,  0.        ,  2.        , ...,  0.        ,\n",
              "         0.        ,  1.        ],\n",
              "       [-0.2173913 ,  0.        ,  1.        , ...,  0.        ,\n",
              "         0.        ,  1.        ],\n",
              "       ...,\n",
              "       [-0.97644928,  0.        ,  0.        , ...,  1.        ,\n",
              "         0.        ,  1.        ],\n",
              "       [-0.88949275,  0.        ,  0.        , ...,  0.        ,\n",
              "         0.        ,  1.        ],\n",
              "       [ 0.63405797,  1.        ,  0.        , ...,  0.        ,\n",
              "         1.        ,  0.        ]])"
            ]
          },
          "metadata": {},
          "execution_count": 37
        }
      ]
    },
    {
      "cell_type": "code",
      "source": [
        "importance"
      ],
      "metadata": {
        "colab": {
          "base_uri": "https://localhost:8080/"
        },
        "id": "HJEK7FIeyDAF",
        "outputId": "3dad2210-edb1-4997-ad6f-beefe9eb8504"
      },
      "execution_count": 38,
      "outputs": [
        {
          "output_type": "execute_result",
          "data": {
            "text/plain": [
              "0.10337392289559344"
            ]
          },
          "metadata": {},
          "execution_count": 38
        }
      ]
    },
    {
      "cell_type": "code",
      "source": [
        "indices"
      ],
      "metadata": {
        "colab": {
          "base_uri": "https://localhost:8080/"
        },
        "id": "g27-l3mkyMX4",
        "outputId": "ecaac511-b268-43ec-fc0b-1f46935000e4"
      },
      "execution_count": 39,
      "outputs": [
        {
          "output_type": "execute_result",
          "data": {
            "text/plain": [
              "array([ 0,  2,  4,  3, 19,  1, 11, 12, 15, 10, 16,  9, 17, 18,  8,  7, 13,\n",
              "       14,  5,  6])"
            ]
          },
          "metadata": {},
          "execution_count": 39
        }
      ]
    },
    {
      "cell_type": "code",
      "source": [
        "X"
      ],
      "metadata": {
        "colab": {
          "base_uri": "https://localhost:8080/",
          "height": 423
        },
        "id": "P3I8TDZ5yXGN",
        "outputId": "49b94d0e-d88b-4a77-ed17-9257e8438f69"
      },
      "execution_count": 40,
      "outputs": [
        {
          "output_type": "execute_result",
          "data": {
            "text/plain": [
              "     area  bedrooms  bathrooms  stories mainroad guestroom basement  \\\n",
              "0    7420         4          2        3      yes        no       no   \n",
              "2    9960         3          2        2      yes        no      yes   \n",
              "3    7500         4          2        2      yes        no      yes   \n",
              "4    7420         4          1        2      yes       yes      yes   \n",
              "5    7500         3          3        1      yes        no      yes   \n",
              "..    ...       ...        ...      ...      ...       ...      ...   \n",
              "540  3000         2          1        1      yes        no      yes   \n",
              "541  2400         3          1        1       no        no       no   \n",
              "542  3620         2          1        1      yes        no       no   \n",
              "543  2910         3          1        1       no        no       no   \n",
              "544  3850         3          1        2      yes        no       no   \n",
              "\n",
              "    hotwaterheating airconditioning  parking prefarea furnishingstatus  \n",
              "0                no             yes        2      yes        furnished  \n",
              "2                no              no        2      yes   semi-furnished  \n",
              "3                no             yes        3      yes        furnished  \n",
              "4                no             yes        2       no        furnished  \n",
              "5                no             yes        2      yes   semi-furnished  \n",
              "..              ...             ...      ...      ...              ...  \n",
              "540              no              no        2       no      unfurnished  \n",
              "541              no              no        0       no   semi-furnished  \n",
              "542              no              no        0       no      unfurnished  \n",
              "543              no              no        0       no        furnished  \n",
              "544              no              no        0       no      unfurnished  \n",
              "\n",
              "[544 rows x 12 columns]"
            ],
            "text/html": [
              "\n",
              "  <div id=\"df-f0ddb606-9244-4604-b552-faa238831cb7\" class=\"colab-df-container\">\n",
              "    <div>\n",
              "<style scoped>\n",
              "    .dataframe tbody tr th:only-of-type {\n",
              "        vertical-align: middle;\n",
              "    }\n",
              "\n",
              "    .dataframe tbody tr th {\n",
              "        vertical-align: top;\n",
              "    }\n",
              "\n",
              "    .dataframe thead th {\n",
              "        text-align: right;\n",
              "    }\n",
              "</style>\n",
              "<table border=\"1\" class=\"dataframe\">\n",
              "  <thead>\n",
              "    <tr style=\"text-align: right;\">\n",
              "      <th></th>\n",
              "      <th>area</th>\n",
              "      <th>bedrooms</th>\n",
              "      <th>bathrooms</th>\n",
              "      <th>stories</th>\n",
              "      <th>mainroad</th>\n",
              "      <th>guestroom</th>\n",
              "      <th>basement</th>\n",
              "      <th>hotwaterheating</th>\n",
              "      <th>airconditioning</th>\n",
              "      <th>parking</th>\n",
              "      <th>prefarea</th>\n",
              "      <th>furnishingstatus</th>\n",
              "    </tr>\n",
              "  </thead>\n",
              "  <tbody>\n",
              "    <tr>\n",
              "      <th>0</th>\n",
              "      <td>7420</td>\n",
              "      <td>4</td>\n",
              "      <td>2</td>\n",
              "      <td>3</td>\n",
              "      <td>yes</td>\n",
              "      <td>no</td>\n",
              "      <td>no</td>\n",
              "      <td>no</td>\n",
              "      <td>yes</td>\n",
              "      <td>2</td>\n",
              "      <td>yes</td>\n",
              "      <td>furnished</td>\n",
              "    </tr>\n",
              "    <tr>\n",
              "      <th>2</th>\n",
              "      <td>9960</td>\n",
              "      <td>3</td>\n",
              "      <td>2</td>\n",
              "      <td>2</td>\n",
              "      <td>yes</td>\n",
              "      <td>no</td>\n",
              "      <td>yes</td>\n",
              "      <td>no</td>\n",
              "      <td>no</td>\n",
              "      <td>2</td>\n",
              "      <td>yes</td>\n",
              "      <td>semi-furnished</td>\n",
              "    </tr>\n",
              "    <tr>\n",
              "      <th>3</th>\n",
              "      <td>7500</td>\n",
              "      <td>4</td>\n",
              "      <td>2</td>\n",
              "      <td>2</td>\n",
              "      <td>yes</td>\n",
              "      <td>no</td>\n",
              "      <td>yes</td>\n",
              "      <td>no</td>\n",
              "      <td>yes</td>\n",
              "      <td>3</td>\n",
              "      <td>yes</td>\n",
              "      <td>furnished</td>\n",
              "    </tr>\n",
              "    <tr>\n",
              "      <th>4</th>\n",
              "      <td>7420</td>\n",
              "      <td>4</td>\n",
              "      <td>1</td>\n",
              "      <td>2</td>\n",
              "      <td>yes</td>\n",
              "      <td>yes</td>\n",
              "      <td>yes</td>\n",
              "      <td>no</td>\n",
              "      <td>yes</td>\n",
              "      <td>2</td>\n",
              "      <td>no</td>\n",
              "      <td>furnished</td>\n",
              "    </tr>\n",
              "    <tr>\n",
              "      <th>5</th>\n",
              "      <td>7500</td>\n",
              "      <td>3</td>\n",
              "      <td>3</td>\n",
              "      <td>1</td>\n",
              "      <td>yes</td>\n",
              "      <td>no</td>\n",
              "      <td>yes</td>\n",
              "      <td>no</td>\n",
              "      <td>yes</td>\n",
              "      <td>2</td>\n",
              "      <td>yes</td>\n",
              "      <td>semi-furnished</td>\n",
              "    </tr>\n",
              "    <tr>\n",
              "      <th>...</th>\n",
              "      <td>...</td>\n",
              "      <td>...</td>\n",
              "      <td>...</td>\n",
              "      <td>...</td>\n",
              "      <td>...</td>\n",
              "      <td>...</td>\n",
              "      <td>...</td>\n",
              "      <td>...</td>\n",
              "      <td>...</td>\n",
              "      <td>...</td>\n",
              "      <td>...</td>\n",
              "      <td>...</td>\n",
              "    </tr>\n",
              "    <tr>\n",
              "      <th>540</th>\n",
              "      <td>3000</td>\n",
              "      <td>2</td>\n",
              "      <td>1</td>\n",
              "      <td>1</td>\n",
              "      <td>yes</td>\n",
              "      <td>no</td>\n",
              "      <td>yes</td>\n",
              "      <td>no</td>\n",
              "      <td>no</td>\n",
              "      <td>2</td>\n",
              "      <td>no</td>\n",
              "      <td>unfurnished</td>\n",
              "    </tr>\n",
              "    <tr>\n",
              "      <th>541</th>\n",
              "      <td>2400</td>\n",
              "      <td>3</td>\n",
              "      <td>1</td>\n",
              "      <td>1</td>\n",
              "      <td>no</td>\n",
              "      <td>no</td>\n",
              "      <td>no</td>\n",
              "      <td>no</td>\n",
              "      <td>no</td>\n",
              "      <td>0</td>\n",
              "      <td>no</td>\n",
              "      <td>semi-furnished</td>\n",
              "    </tr>\n",
              "    <tr>\n",
              "      <th>542</th>\n",
              "      <td>3620</td>\n",
              "      <td>2</td>\n",
              "      <td>1</td>\n",
              "      <td>1</td>\n",
              "      <td>yes</td>\n",
              "      <td>no</td>\n",
              "      <td>no</td>\n",
              "      <td>no</td>\n",
              "      <td>no</td>\n",
              "      <td>0</td>\n",
              "      <td>no</td>\n",
              "      <td>unfurnished</td>\n",
              "    </tr>\n",
              "    <tr>\n",
              "      <th>543</th>\n",
              "      <td>2910</td>\n",
              "      <td>3</td>\n",
              "      <td>1</td>\n",
              "      <td>1</td>\n",
              "      <td>no</td>\n",
              "      <td>no</td>\n",
              "      <td>no</td>\n",
              "      <td>no</td>\n",
              "      <td>no</td>\n",
              "      <td>0</td>\n",
              "      <td>no</td>\n",
              "      <td>furnished</td>\n",
              "    </tr>\n",
              "    <tr>\n",
              "      <th>544</th>\n",
              "      <td>3850</td>\n",
              "      <td>3</td>\n",
              "      <td>1</td>\n",
              "      <td>2</td>\n",
              "      <td>yes</td>\n",
              "      <td>no</td>\n",
              "      <td>no</td>\n",
              "      <td>no</td>\n",
              "      <td>no</td>\n",
              "      <td>0</td>\n",
              "      <td>no</td>\n",
              "      <td>unfurnished</td>\n",
              "    </tr>\n",
              "  </tbody>\n",
              "</table>\n",
              "<p>544 rows × 12 columns</p>\n",
              "</div>\n",
              "    <div class=\"colab-df-buttons\">\n",
              "\n",
              "  <div class=\"colab-df-container\">\n",
              "    <button class=\"colab-df-convert\" onclick=\"convertToInteractive('df-f0ddb606-9244-4604-b552-faa238831cb7')\"\n",
              "            title=\"Convert this dataframe to an interactive table.\"\n",
              "            style=\"display:none;\">\n",
              "\n",
              "  <svg xmlns=\"http://www.w3.org/2000/svg\" height=\"24px\" viewBox=\"0 -960 960 960\">\n",
              "    <path d=\"M120-120v-720h720v720H120Zm60-500h600v-160H180v160Zm220 220h160v-160H400v160Zm0 220h160v-160H400v160ZM180-400h160v-160H180v160Zm440 0h160v-160H620v160ZM180-180h160v-160H180v160Zm440 0h160v-160H620v160Z\"/>\n",
              "  </svg>\n",
              "    </button>\n",
              "\n",
              "  <style>\n",
              "    .colab-df-container {\n",
              "      display:flex;\n",
              "      gap: 12px;\n",
              "    }\n",
              "\n",
              "    .colab-df-convert {\n",
              "      background-color: #E8F0FE;\n",
              "      border: none;\n",
              "      border-radius: 50%;\n",
              "      cursor: pointer;\n",
              "      display: none;\n",
              "      fill: #1967D2;\n",
              "      height: 32px;\n",
              "      padding: 0 0 0 0;\n",
              "      width: 32px;\n",
              "    }\n",
              "\n",
              "    .colab-df-convert:hover {\n",
              "      background-color: #E2EBFA;\n",
              "      box-shadow: 0px 1px 2px rgba(60, 64, 67, 0.3), 0px 1px 3px 1px rgba(60, 64, 67, 0.15);\n",
              "      fill: #174EA6;\n",
              "    }\n",
              "\n",
              "    .colab-df-buttons div {\n",
              "      margin-bottom: 4px;\n",
              "    }\n",
              "\n",
              "    [theme=dark] .colab-df-convert {\n",
              "      background-color: #3B4455;\n",
              "      fill: #D2E3FC;\n",
              "    }\n",
              "\n",
              "    [theme=dark] .colab-df-convert:hover {\n",
              "      background-color: #434B5C;\n",
              "      box-shadow: 0px 1px 3px 1px rgba(0, 0, 0, 0.15);\n",
              "      filter: drop-shadow(0px 1px 2px rgba(0, 0, 0, 0.3));\n",
              "      fill: #FFFFFF;\n",
              "    }\n",
              "  </style>\n",
              "\n",
              "    <script>\n",
              "      const buttonEl =\n",
              "        document.querySelector('#df-f0ddb606-9244-4604-b552-faa238831cb7 button.colab-df-convert');\n",
              "      buttonEl.style.display =\n",
              "        google.colab.kernel.accessAllowed ? 'block' : 'none';\n",
              "\n",
              "      async function convertToInteractive(key) {\n",
              "        const element = document.querySelector('#df-f0ddb606-9244-4604-b552-faa238831cb7');\n",
              "        const dataTable =\n",
              "          await google.colab.kernel.invokeFunction('convertToInteractive',\n",
              "                                                    [key], {});\n",
              "        if (!dataTable) return;\n",
              "\n",
              "        const docLinkHtml = 'Like what you see? Visit the ' +\n",
              "          '<a target=\"_blank\" href=https://colab.research.google.com/notebooks/data_table.ipynb>data table notebook</a>'\n",
              "          + ' to learn more about interactive tables.';\n",
              "        element.innerHTML = '';\n",
              "        dataTable['output_type'] = 'display_data';\n",
              "        await google.colab.output.renderOutput(dataTable, element);\n",
              "        const docLink = document.createElement('div');\n",
              "        docLink.innerHTML = docLinkHtml;\n",
              "        element.appendChild(docLink);\n",
              "      }\n",
              "    </script>\n",
              "  </div>\n",
              "\n",
              "\n",
              "<div id=\"df-ae59230e-b24a-431b-893f-55bffe66762f\">\n",
              "  <button class=\"colab-df-quickchart\" onclick=\"quickchart('df-ae59230e-b24a-431b-893f-55bffe66762f')\"\n",
              "            title=\"Suggest charts.\"\n",
              "            style=\"display:none;\">\n",
              "\n",
              "<svg xmlns=\"http://www.w3.org/2000/svg\" height=\"24px\"viewBox=\"0 0 24 24\"\n",
              "     width=\"24px\">\n",
              "    <g>\n",
              "        <path d=\"M19 3H5c-1.1 0-2 .9-2 2v14c0 1.1.9 2 2 2h14c1.1 0 2-.9 2-2V5c0-1.1-.9-2-2-2zM9 17H7v-7h2v7zm4 0h-2V7h2v10zm4 0h-2v-4h2v4z\"/>\n",
              "    </g>\n",
              "</svg>\n",
              "  </button>\n",
              "\n",
              "<style>\n",
              "  .colab-df-quickchart {\n",
              "      --bg-color: #E8F0FE;\n",
              "      --fill-color: #1967D2;\n",
              "      --hover-bg-color: #E2EBFA;\n",
              "      --hover-fill-color: #174EA6;\n",
              "      --disabled-fill-color: #AAA;\n",
              "      --disabled-bg-color: #DDD;\n",
              "  }\n",
              "\n",
              "  [theme=dark] .colab-df-quickchart {\n",
              "      --bg-color: #3B4455;\n",
              "      --fill-color: #D2E3FC;\n",
              "      --hover-bg-color: #434B5C;\n",
              "      --hover-fill-color: #FFFFFF;\n",
              "      --disabled-bg-color: #3B4455;\n",
              "      --disabled-fill-color: #666;\n",
              "  }\n",
              "\n",
              "  .colab-df-quickchart {\n",
              "    background-color: var(--bg-color);\n",
              "    border: none;\n",
              "    border-radius: 50%;\n",
              "    cursor: pointer;\n",
              "    display: none;\n",
              "    fill: var(--fill-color);\n",
              "    height: 32px;\n",
              "    padding: 0;\n",
              "    width: 32px;\n",
              "  }\n",
              "\n",
              "  .colab-df-quickchart:hover {\n",
              "    background-color: var(--hover-bg-color);\n",
              "    box-shadow: 0 1px 2px rgba(60, 64, 67, 0.3), 0 1px 3px 1px rgba(60, 64, 67, 0.15);\n",
              "    fill: var(--button-hover-fill-color);\n",
              "  }\n",
              "\n",
              "  .colab-df-quickchart-complete:disabled,\n",
              "  .colab-df-quickchart-complete:disabled:hover {\n",
              "    background-color: var(--disabled-bg-color);\n",
              "    fill: var(--disabled-fill-color);\n",
              "    box-shadow: none;\n",
              "  }\n",
              "\n",
              "  .colab-df-spinner {\n",
              "    border: 2px solid var(--fill-color);\n",
              "    border-color: transparent;\n",
              "    border-bottom-color: var(--fill-color);\n",
              "    animation:\n",
              "      spin 1s steps(1) infinite;\n",
              "  }\n",
              "\n",
              "  @keyframes spin {\n",
              "    0% {\n",
              "      border-color: transparent;\n",
              "      border-bottom-color: var(--fill-color);\n",
              "      border-left-color: var(--fill-color);\n",
              "    }\n",
              "    20% {\n",
              "      border-color: transparent;\n",
              "      border-left-color: var(--fill-color);\n",
              "      border-top-color: var(--fill-color);\n",
              "    }\n",
              "    30% {\n",
              "      border-color: transparent;\n",
              "      border-left-color: var(--fill-color);\n",
              "      border-top-color: var(--fill-color);\n",
              "      border-right-color: var(--fill-color);\n",
              "    }\n",
              "    40% {\n",
              "      border-color: transparent;\n",
              "      border-right-color: var(--fill-color);\n",
              "      border-top-color: var(--fill-color);\n",
              "    }\n",
              "    60% {\n",
              "      border-color: transparent;\n",
              "      border-right-color: var(--fill-color);\n",
              "    }\n",
              "    80% {\n",
              "      border-color: transparent;\n",
              "      border-right-color: var(--fill-color);\n",
              "      border-bottom-color: var(--fill-color);\n",
              "    }\n",
              "    90% {\n",
              "      border-color: transparent;\n",
              "      border-bottom-color: var(--fill-color);\n",
              "    }\n",
              "  }\n",
              "</style>\n",
              "\n",
              "  <script>\n",
              "    async function quickchart(key) {\n",
              "      const quickchartButtonEl =\n",
              "        document.querySelector('#' + key + ' button');\n",
              "      quickchartButtonEl.disabled = true;  // To prevent multiple clicks.\n",
              "      quickchartButtonEl.classList.add('colab-df-spinner');\n",
              "      try {\n",
              "        const charts = await google.colab.kernel.invokeFunction(\n",
              "            'suggestCharts', [key], {});\n",
              "      } catch (error) {\n",
              "        console.error('Error during call to suggestCharts:', error);\n",
              "      }\n",
              "      quickchartButtonEl.classList.remove('colab-df-spinner');\n",
              "      quickchartButtonEl.classList.add('colab-df-quickchart-complete');\n",
              "    }\n",
              "    (() => {\n",
              "      let quickchartButtonEl =\n",
              "        document.querySelector('#df-ae59230e-b24a-431b-893f-55bffe66762f button');\n",
              "      quickchartButtonEl.style.display =\n",
              "        google.colab.kernel.accessAllowed ? 'block' : 'none';\n",
              "    })();\n",
              "  </script>\n",
              "</div>\n",
              "    </div>\n",
              "  </div>\n"
            ]
          },
          "metadata": {},
          "execution_count": 40
        }
      ]
    },
    {
      "cell_type": "code",
      "source": [],
      "metadata": {
        "id": "ZnFel7rcymwr"
      },
      "execution_count": null,
      "outputs": []
    }
  ]
}